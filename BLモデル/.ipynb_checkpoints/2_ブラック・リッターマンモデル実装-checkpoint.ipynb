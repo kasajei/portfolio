{
 "cells": [
  {
   "cell_type": "code",
   "execution_count": 1,
   "metadata": {
    "collapsed": true
   },
   "outputs": [],
   "source": [
    "import numpy as np\n",
    "import pandas as pd\n",
    "%matplotlib inline\n",
    "from matplotlib import pyplot as plt"
   ]
  },
  {
   "cell_type": "markdown",
   "metadata": {},
   "source": [
    "# データ\n",
    "国内株式\n",
    "639.03億円\n",
    "\n",
    "国内債権\n",
    "459.69億円\n",
    "\n",
    "世界株式\n",
    "883.18億円\n",
    "\n",
    "世界債権\n",
    "126.07億円"
   ]
  },
  {
   "cell_type": "code",
   "execution_count": 2,
   "metadata": {
    "collapsed": true
   },
   "outputs": [],
   "source": [
    "mc = np.array([[639.03, 459.69, 883.18, 126.07]]).T"
   ]
  },
  {
   "cell_type": "code",
   "execution_count": 3,
   "metadata": {
    "collapsed": false
   },
   "outputs": [
    {
     "data": {
      "text/plain": [
       "array([[ 0.30314948],\n",
       "       [ 0.21807236],\n",
       "       [ 0.41897181],\n",
       "       [ 0.05980635]])"
      ]
     },
     "execution_count": 3,
     "metadata": {},
     "output_type": "execute_result"
    }
   ],
   "source": [
    "w = mc/mc.sum()\n",
    "w"
   ]
  },
  {
   "cell_type": "code",
   "execution_count": 4,
   "metadata": {
    "collapsed": false
   },
   "outputs": [
    {
     "data": {
      "text/plain": [
       "array([[ 1.        , -0.31443894,  0.47767142,  0.61013571],\n",
       "       [-0.31443894,  1.        , -0.16928778, -0.23719114],\n",
       "       [ 0.47767142, -0.16928778,  1.        ,  0.72432726],\n",
       "       [ 0.61013571, -0.23719114,  0.72432726,  1.        ]])"
      ]
     },
     "execution_count": 4,
     "metadata": {},
     "output_type": "execute_result"
    }
   ],
   "source": [
    "corr = np.array([[ 1.        , -0.31443894,  0.47767142,  0.61013571],\n",
    "       [-0.31443894,  1.        , -0.16928778, -0.23719114],\n",
    "       [ 0.47767142, -0.16928778,  1.        ,  0.72432726],\n",
    "       [ 0.61013571, -0.23719114,  0.72432726,  1.        ]])\n",
    "corr"
   ]
  },
  {
   "cell_type": "code",
   "execution_count": 5,
   "metadata": {
    "collapsed": false
   },
   "outputs": [
    {
     "data": {
      "text/plain": [
       "array([[ 1.521491,  0.144068,  0.692152,  1.629491]])"
      ]
     },
     "execution_count": 5,
     "metadata": {},
     "output_type": "execute_result"
    }
   ],
   "source": [
    "std = np.array([[1.521491, 0.144068, 0.692152, 1.629491]])\n",
    "std"
   ]
  },
  {
   "cell_type": "code",
   "execution_count": 6,
   "metadata": {
    "collapsed": false
   },
   "outputs": [
    {
     "data": {
      "text/plain": [
       "array([[ 2.31493486, -0.06892444,  0.50303722,  1.51268255],\n",
       "       [-0.06892444,  0.02075559, -0.01688086, -0.0556824 ],\n",
       "       [ 0.50303722, -0.01688086,  0.47907439,  0.81693645],\n",
       "       [ 1.51268255, -0.0556824 ,  0.81693645,  2.65524092]])"
      ]
     },
     "execution_count": 6,
     "metadata": {},
     "output_type": "execute_result"
    }
   ],
   "source": [
    "Sigma = corr * np.dot(std.T, std)\n",
    "Sigma"
   ]
  },
  {
   "cell_type": "code",
   "execution_count": 7,
   "metadata": {
    "collapsed": true
   },
   "outputs": [],
   "source": [
    "delta = 2.5\n",
    "tau = 0.05"
   ]
  },
  {
   "cell_type": "code",
   "execution_count": 8,
   "metadata": {
    "collapsed": false
   },
   "outputs": [
    {
     "data": {
      "text/plain": [
       "array([[ 2.46991804],\n",
       "       [-0.06692738],\n",
       "       [ 0.99597719],\n",
       "       [ 2.36874937]])"
      ]
     },
     "execution_count": 8,
     "metadata": {},
     "output_type": "execute_result"
    }
   ],
   "source": [
    "r_eq = delta * np.dot(Sigma, w)\n",
    "r_eq"
   ]
  },
  {
   "cell_type": "code",
   "execution_count": 9,
   "metadata": {
    "collapsed": true
   },
   "outputs": [],
   "source": [
    "# 相関をarrayで現し、合わせて1になるるように設定。[国内株式,国内債券,世界株式,世界債券]\n",
    "# 国内債券 < 世界債券 アウトバーン5%で0.1%の確信度\n",
    "# 国内株式 > 世界株式 アウトバーン3%で0.085%の確信度\n",
    "P = np.array([\n",
    "        [0,-1,0,1],\n",
    "        [1,0,-1,0]])\n",
    "# どれぐらいアウトバーンするか\n",
    "Q = np.array([[0.05],[0.03]])\n",
    "# 確信度\n",
    "Omega = np.array([\n",
    "        [0.001065383332,0],\n",
    "        [0,0.0008517381]])"
   ]
  },
  {
   "cell_type": "code",
   "execution_count": 10,
   "metadata": {
    "collapsed": true
   },
   "outputs": [],
   "source": [
    "r_posterior = r_eq + np.dot( np.dot( tau*np.dot(Sigma,P.T), np.linalg.inv(tau*np.dot(np.dot(P,Sigma),P.T)+Omega)), (Q-np.dot(P,r_eq)))"
   ]
  },
  {
   "cell_type": "code",
   "execution_count": 11,
   "metadata": {
    "collapsed": true
   },
   "outputs": [],
   "source": [
    "Sigma_posterior = Sigma + tau*Sigma - tau*np.dot( np.dot( np.dot(Sigma,P.T), np.linalg.inv(tau*np.dot(np.dot(P,Sigma),P.T)+Omega)), tau*np.dot(P,Sigma))"
   ]
  },
  {
   "cell_type": "code",
   "execution_count": 12,
   "metadata": {
    "collapsed": true
   },
   "outputs": [],
   "source": [
    "w_posterior = np.dot(np.linalg.inv(delta*Sigma_posterior), r_posterior)"
   ]
  },
  {
   "cell_type": "code",
   "execution_count": 13,
   "metadata": {
    "collapsed": false
   },
   "outputs": [
    {
     "data": {
      "text/plain": [
       "<matplotlib.axes._subplots.AxesSubplot at 0x1144615f8>"
      ]
     },
     "execution_count": 13,
     "metadata": {},
     "output_type": "execute_result"
    },
    {
     "data": {
      "image/png": "[encoded data removed]",
      "text/plain": [
       "<matplotlib.figure.Figure at 0x114449a58>"
      ]
     },
     "metadata": {},
     "output_type": "display_data"
    }
   ],
   "source": [
    "df = pd.DataFrame([w.reshape(4),w_posterior.reshape(4)],\n",
    "                  columns=[\"j_s\",\"j_b\",\"w_s\",\"w_b\"],\n",
    "                  index=['Equilibrium Weights','Constrained Optimal Weights'])\n",
    "df.T.plot(kind='bar', color='br')"
   ]
  },
  {
   "cell_type": "code",
   "execution_count": null,
   "metadata": {
    "collapsed": true
   },
   "outputs": [],
   "source": []
  }
 ],
 "metadata": {
  "kernelspec": {
   "display_name": "Python 3",
   "language": "python",
   "name": "python3"
  },
  "language_info": {
   "codemirror_mode": {
    "name": "ipython",
    "version": 3
   },
   "file_extension": ".py",
   "mimetype": "text/x-python",
   "name": "python",
   "nbconvert_exporter": "python",
   "pygments_lexer": "ipython3",
   "version": "3.5.2"
  }
 },
 "nbformat": 4,
 "nbformat_minor": 1
}
