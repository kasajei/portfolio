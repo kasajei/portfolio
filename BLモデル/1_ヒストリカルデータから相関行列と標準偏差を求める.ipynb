{
 "cells": [
  {
   "cell_type": "code",
   "execution_count": 1,
   "metadata": {
    "collapsed": true
   },
   "outputs": [],
   "source": [
    "import numpy as np\n",
    "import pandas as pd\n",
    "%matplotlib inline\n",
    "from matplotlib import pyplot as plt"
   ]
  },
  {
   "cell_type": "code",
   "execution_count": 2,
   "metadata": {
    "collapsed": false
   },
   "outputs": [],
   "source": [
    "japan_stock = pd.read_csv(\"../data/japan_stock.csv\", parse_dates=True, index_col=\"date\")\n",
    "japan_bond = pd.read_csv(\"../data/japan_bond.csv\", parse_dates=True, index_col=\"date\")\n",
    "world_stock = pd.read_csv(\"../data/world_stock.csv\", parse_dates=True, index_col=\"date\")\n",
    "world_bond = pd.read_csv(\"../data/world_bond.csv\", parse_dates=True, index_col=\"date\")"
   ]
  },
  {
   "cell_type": "code",
   "execution_count": 3,
   "metadata": {
    "collapsed": false
   },
   "outputs": [
    {
     "data": {
      "text/html": [
       "<div>\n",
       "<table border=\"1\" class=\"dataframe\">\n",
       "  <thead>\n",
       "    <tr style=\"text-align: right;\">\n",
       "      <th></th>\n",
       "      <th>price</th>\n",
       "      <th>diff</th>\n",
       "      <th>rate</th>\n",
       "    </tr>\n",
       "  </thead>\n",
       "  <tbody>\n",
       "    <tr>\n",
       "      <th>count</th>\n",
       "      <td>3214.000000</td>\n",
       "      <td>3213.000000</td>\n",
       "      <td>3213.000000</td>\n",
       "    </tr>\n",
       "    <tr>\n",
       "      <th>mean</th>\n",
       "      <td>12942.336341</td>\n",
       "      <td>2.017740</td>\n",
       "      <td>0.005147</td>\n",
       "    </tr>\n",
       "    <tr>\n",
       "      <th>std</th>\n",
       "      <td>3407.146373</td>\n",
       "      <td>182.794252</td>\n",
       "      <td>1.439680</td>\n",
       "    </tr>\n",
       "    <tr>\n",
       "      <th>min</th>\n",
       "      <td>7411.000000</td>\n",
       "      <td>-1147.000000</td>\n",
       "      <td>-10.633633</td>\n",
       "    </tr>\n",
       "    <tr>\n",
       "      <th>25%</th>\n",
       "      <td>9705.000000</td>\n",
       "      <td>-82.000000</td>\n",
       "      <td>-0.684932</td>\n",
       "    </tr>\n",
       "    <tr>\n",
       "      <th>50%</th>\n",
       "      <td>12694.000000</td>\n",
       "      <td>8.000000</td>\n",
       "      <td>0.058984</td>\n",
       "    </tr>\n",
       "    <tr>\n",
       "      <th>75%</th>\n",
       "      <td>16122.500000</td>\n",
       "      <td>100.000000</td>\n",
       "      <td>0.798242</td>\n",
       "    </tr>\n",
       "    <tr>\n",
       "      <th>max</th>\n",
       "      <td>20244.000000</td>\n",
       "      <td>1236.000000</td>\n",
       "      <td>12.223101</td>\n",
       "    </tr>\n",
       "  </tbody>\n",
       "</table>\n",
       "</div>"
      ],
      "text/plain": [
       "              price         diff         rate\n",
       "count   3214.000000  3213.000000  3213.000000\n",
       "mean   12942.336341     2.017740     0.005147\n",
       "std     3407.146373   182.794252     1.439680\n",
       "min     7411.000000 -1147.000000   -10.633633\n",
       "25%     9705.000000   -82.000000    -0.684932\n",
       "50%    12694.000000     8.000000     0.058984\n",
       "75%    16122.500000   100.000000     0.798242\n",
       "max    20244.000000  1236.000000    12.223101"
      ]
     },
     "execution_count": 3,
     "metadata": {},
     "output_type": "execute_result"
    }
   ],
   "source": [
    "japan_stock.describe() "
   ]
  },
  {
   "cell_type": "code",
   "execution_count": 4,
   "metadata": {
    "collapsed": false
   },
   "outputs": [
    {
     "data": {
      "text/html": [
       "<div>\n",
       "<table border=\"1\" class=\"dataframe\">\n",
       "  <thead>\n",
       "    <tr style=\"text-align: right;\">\n",
       "      <th></th>\n",
       "      <th>price</th>\n",
       "      <th>diff</th>\n",
       "      <th>rate</th>\n",
       "    </tr>\n",
       "    <tr>\n",
       "      <th>date</th>\n",
       "      <th></th>\n",
       "      <th></th>\n",
       "      <th></th>\n",
       "    </tr>\n",
       "  </thead>\n",
       "  <tbody>\n",
       "    <tr>\n",
       "      <th>2003-09-30</th>\n",
       "      <td>10078</td>\n",
       "      <td>NaN</td>\n",
       "      <td>NaN</td>\n",
       "    </tr>\n",
       "    <tr>\n",
       "      <th>2003-10-01</th>\n",
       "      <td>10192</td>\n",
       "      <td>114.0</td>\n",
       "      <td>1.118524</td>\n",
       "    </tr>\n",
       "    <tr>\n",
       "      <th>2003-10-02</th>\n",
       "      <td>10464</td>\n",
       "      <td>272.0</td>\n",
       "      <td>2.599388</td>\n",
       "    </tr>\n",
       "    <tr>\n",
       "      <th>2003-10-03</th>\n",
       "      <td>10556</td>\n",
       "      <td>92.0</td>\n",
       "      <td>0.871542</td>\n",
       "    </tr>\n",
       "    <tr>\n",
       "      <th>2003-10-06</th>\n",
       "      <td>10576</td>\n",
       "      <td>20.0</td>\n",
       "      <td>0.189107</td>\n",
       "    </tr>\n",
       "  </tbody>\n",
       "</table>\n",
       "</div>"
      ],
      "text/plain": [
       "            price   diff      rate\n",
       "date                              \n",
       "2003-09-30  10078    NaN       NaN\n",
       "2003-10-01  10192  114.0  1.118524\n",
       "2003-10-02  10464  272.0  2.599388\n",
       "2003-10-03  10556   92.0  0.871542\n",
       "2003-10-06  10576   20.0  0.189107"
      ]
     },
     "execution_count": 4,
     "metadata": {},
     "output_type": "execute_result"
    }
   ],
   "source": [
    "japan_stock.head()"
   ]
  },
  {
   "cell_type": "code",
   "execution_count": 5,
   "metadata": {
    "collapsed": false
   },
   "outputs": [
    {
     "data": {
      "text/html": [
       "<div>\n",
       "<table border=\"1\" class=\"dataframe\">\n",
       "  <thead>\n",
       "    <tr style=\"text-align: right;\">\n",
       "      <th></th>\n",
       "      <th>price</th>\n",
       "      <th>diff</th>\n",
       "      <th>rate</th>\n",
       "    </tr>\n",
       "    <tr>\n",
       "      <th>date</th>\n",
       "      <th></th>\n",
       "      <th></th>\n",
       "      <th></th>\n",
       "    </tr>\n",
       "  </thead>\n",
       "  <tbody>\n",
       "    <tr>\n",
       "      <th>2002-09-05</th>\n",
       "      <td>10184</td>\n",
       "      <td>NaN</td>\n",
       "      <td>NaN</td>\n",
       "    </tr>\n",
       "    <tr>\n",
       "      <th>2002-09-06</th>\n",
       "      <td>10100</td>\n",
       "      <td>-84.0</td>\n",
       "      <td>-0.831683</td>\n",
       "    </tr>\n",
       "    <tr>\n",
       "      <th>2002-09-09</th>\n",
       "      <td>10281</td>\n",
       "      <td>181.0</td>\n",
       "      <td>1.760529</td>\n",
       "    </tr>\n",
       "    <tr>\n",
       "      <th>2002-09-10</th>\n",
       "      <td>10305</td>\n",
       "      <td>24.0</td>\n",
       "      <td>0.232897</td>\n",
       "    </tr>\n",
       "    <tr>\n",
       "      <th>2002-09-11</th>\n",
       "      <td>10509</td>\n",
       "      <td>204.0</td>\n",
       "      <td>1.941193</td>\n",
       "    </tr>\n",
       "  </tbody>\n",
       "</table>\n",
       "</div>"
      ],
      "text/plain": [
       "            price   diff      rate\n",
       "date                              \n",
       "2002-09-05  10184    NaN       NaN\n",
       "2002-09-06  10100  -84.0 -0.831683\n",
       "2002-09-09  10281  181.0  1.760529\n",
       "2002-09-10  10305   24.0  0.232897\n",
       "2002-09-11  10509  204.0  1.941193"
      ]
     },
     "execution_count": 5,
     "metadata": {},
     "output_type": "execute_result"
    }
   ],
   "source": [
    "world_stock.head()"
   ]
  },
  {
   "cell_type": "code",
   "execution_count": 6,
   "metadata": {
    "collapsed": false
   },
   "outputs": [],
   "source": [
    "japan_joined = japan_stock.join(japan_bond, lsuffix=\"_japan_stock\", rsuffix=\"_japan_bond\")\n",
    "world_joined = world_stock.join(world_bond, lsuffix=\"_world_bond\",rsuffix=\"_world_stock\")\n",
    "joined = japan_joined.join(world_joined)"
   ]
  },
  {
   "cell_type": "code",
   "execution_count": 7,
   "metadata": {
    "collapsed": false
   },
   "outputs": [],
   "source": [
    "joined = joined.dropna()"
   ]
  },
  {
   "cell_type": "code",
   "execution_count": 8,
   "metadata": {
    "collapsed": false
   },
   "outputs": [
    {
     "data": {
      "text/html": [
       "<div>\n",
       "<table border=\"1\" class=\"dataframe\">\n",
       "  <thead>\n",
       "    <tr style=\"text-align: right;\">\n",
       "      <th></th>\n",
       "      <th>rate_japan_stock</th>\n",
       "      <th>rate_japan_bond</th>\n",
       "      <th>rate_world_stock</th>\n",
       "      <th>rate_world_bond</th>\n",
       "    </tr>\n",
       "    <tr>\n",
       "      <th>date</th>\n",
       "      <th></th>\n",
       "      <th></th>\n",
       "      <th></th>\n",
       "      <th></th>\n",
       "    </tr>\n",
       "  </thead>\n",
       "  <tbody>\n",
       "    <tr>\n",
       "      <th>2006-05-16</th>\n",
       "      <td>-2.235238</td>\n",
       "      <td>0.162966</td>\n",
       "      <td>0.010014</td>\n",
       "      <td>-0.425762</td>\n",
       "    </tr>\n",
       "    <tr>\n",
       "      <th>2006-05-17</th>\n",
       "      <td>0.723864</td>\n",
       "      <td>0.213436</td>\n",
       "      <td>-0.250979</td>\n",
       "      <td>-0.651859</td>\n",
       "    </tr>\n",
       "    <tr>\n",
       "      <th>2006-05-18</th>\n",
       "      <td>-1.517889</td>\n",
       "      <td>-0.111925</td>\n",
       "      <td>0.429828</td>\n",
       "      <td>-1.147741</td>\n",
       "    </tr>\n",
       "    <tr>\n",
       "      <th>2006-05-19</th>\n",
       "      <td>0.378038</td>\n",
       "      <td>0.162536</td>\n",
       "      <td>0.694858</td>\n",
       "      <td>-0.435342</td>\n",
       "    </tr>\n",
       "    <tr>\n",
       "      <th>2006-05-22</th>\n",
       "      <td>-1.405622</td>\n",
       "      <td>0.344199</td>\n",
       "      <td>0.690063</td>\n",
       "      <td>0.995569</td>\n",
       "    </tr>\n",
       "  </tbody>\n",
       "</table>\n",
       "</div>"
      ],
      "text/plain": [
       "            rate_japan_stock  rate_japan_bond  rate_world_stock  \\\n",
       "date                                                              \n",
       "2006-05-16         -2.235238         0.162966          0.010014   \n",
       "2006-05-17          0.723864         0.213436         -0.250979   \n",
       "2006-05-18         -1.517889        -0.111925          0.429828   \n",
       "2006-05-19          0.378038         0.162536          0.694858   \n",
       "2006-05-22         -1.405622         0.344199          0.690063   \n",
       "\n",
       "            rate_world_bond  \n",
       "date                         \n",
       "2006-05-16        -0.425762  \n",
       "2006-05-17        -0.651859  \n",
       "2006-05-18        -1.147741  \n",
       "2006-05-19        -0.435342  \n",
       "2006-05-22         0.995569  "
      ]
     },
     "execution_count": 8,
     "metadata": {},
     "output_type": "execute_result"
    }
   ],
   "source": [
    "conv = joined[[\"rate_japan_stock\", \"rate_japan_bond\", \"rate_world_stock\", \"rate_world_bond\"]]\n",
    "conv.head()"
   ]
  },
  {
   "cell_type": "code",
   "execution_count": 9,
   "metadata": {
    "collapsed": false
   },
   "outputs": [
    {
     "data": {
      "text/html": [
       "<div>\n",
       "<table border=\"1\" class=\"dataframe\">\n",
       "  <thead>\n",
       "    <tr style=\"text-align: right;\">\n",
       "      <th></th>\n",
       "      <th>rate_japan_stock</th>\n",
       "      <th>rate_japan_bond</th>\n",
       "      <th>rate_world_stock</th>\n",
       "      <th>rate_world_bond</th>\n",
       "    </tr>\n",
       "  </thead>\n",
       "  <tbody>\n",
       "    <tr>\n",
       "      <th>count</th>\n",
       "      <td>2570.000000</td>\n",
       "      <td>2570.000000</td>\n",
       "      <td>2570.000000</td>\n",
       "      <td>2570.000000</td>\n",
       "    </tr>\n",
       "    <tr>\n",
       "      <th>mean</th>\n",
       "      <td>-0.012775</td>\n",
       "      <td>0.010011</td>\n",
       "      <td>0.009355</td>\n",
       "      <td>0.001988</td>\n",
       "    </tr>\n",
       "    <tr>\n",
       "      <th>std</th>\n",
       "      <td>1.521491</td>\n",
       "      <td>0.144068</td>\n",
       "      <td>0.692152</td>\n",
       "      <td>1.629491</td>\n",
       "    </tr>\n",
       "    <tr>\n",
       "      <th>min</th>\n",
       "      <td>-10.633633</td>\n",
       "      <td>-1.184891</td>\n",
       "      <td>-6.046863</td>\n",
       "      <td>-11.610776</td>\n",
       "    </tr>\n",
       "    <tr>\n",
       "      <th>25%</th>\n",
       "      <td>-0.753988</td>\n",
       "      <td>-0.060178</td>\n",
       "      <td>-0.295767</td>\n",
       "      <td>-0.644832</td>\n",
       "    </tr>\n",
       "    <tr>\n",
       "      <th>50%</th>\n",
       "      <td>0.047653</td>\n",
       "      <td>0.008999</td>\n",
       "      <td>0.032568</td>\n",
       "      <td>0.118035</td>\n",
       "    </tr>\n",
       "    <tr>\n",
       "      <th>75%</th>\n",
       "      <td>0.821636</td>\n",
       "      <td>0.084922</td>\n",
       "      <td>0.329448</td>\n",
       "      <td>0.802754</td>\n",
       "    </tr>\n",
       "    <tr>\n",
       "      <th>max</th>\n",
       "      <td>12.223101</td>\n",
       "      <td>1.114040</td>\n",
       "      <td>6.187462</td>\n",
       "      <td>12.660701</td>\n",
       "    </tr>\n",
       "  </tbody>\n",
       "</table>\n",
       "</div>"
      ],
      "text/plain": [
       "       rate_japan_stock  rate_japan_bond  rate_world_stock  rate_world_bond\n",
       "count       2570.000000      2570.000000       2570.000000      2570.000000\n",
       "mean          -0.012775         0.010011          0.009355         0.001988\n",
       "std            1.521491         0.144068          0.692152         1.629491\n",
       "min          -10.633633        -1.184891         -6.046863       -11.610776\n",
       "25%           -0.753988        -0.060178         -0.295767        -0.644832\n",
       "50%            0.047653         0.008999          0.032568         0.118035\n",
       "75%            0.821636         0.084922          0.329448         0.802754\n",
       "max           12.223101         1.114040          6.187462        12.660701"
      ]
     },
     "execution_count": 9,
     "metadata": {},
     "output_type": "execute_result"
    }
   ],
   "source": [
    "conv.describe()"
   ]
  },
  {
   "cell_type": "code",
   "execution_count": 10,
   "metadata": {
    "collapsed": false
   },
   "outputs": [
    {
     "data": {
      "text/plain": [
       "array([[-2.23523787,  0.16296598,  0.01001402, -0.42576157],\n",
       "       [ 0.72386377,  0.21343633, -0.25097882, -0.65185901],\n",
       "       [-1.51788941, -0.11192511,  0.42982807, -1.14774115],\n",
       "       [ 0.3780378 ,  0.16253555,  0.69485805, -0.43534245],\n",
       "       [-1.40562249,  0.34419923,  0.69006309,  0.99556851]])"
      ]
     },
     "execution_count": 10,
     "metadata": {},
     "output_type": "execute_result"
    }
   ],
   "source": [
    "conv.values[:5]"
   ]
  },
  {
   "cell_type": "code",
   "execution_count": 11,
   "metadata": {
    "collapsed": false
   },
   "outputs": [
    {
     "data": {
      "text/plain": [
       "array([[ 2.31403286, -0.06889757,  0.50284102,  1.51209387],\n",
       "       [-0.06889757,  0.02074749, -0.01687427, -0.05566072],\n",
       "       [ 0.50284102, -0.01687427,  0.47888733,  0.81661821],\n",
       "       [ 1.51209387, -0.05566072,  0.81661821,  2.65420889]])"
      ]
     },
     "execution_count": 11,
     "metadata": {},
     "output_type": "execute_result"
    }
   ],
   "source": [
    "np.cov(conv.values, rowvar=0, bias=1)"
   ]
  },
  {
   "cell_type": "code",
   "execution_count": 12,
   "metadata": {
    "collapsed": false
   },
   "outputs": [
    {
     "data": {
      "text/plain": [
       "array([[ 1.        , -0.31443894,  0.47767142,  0.61013571],\n",
       "       [-0.31443894,  1.        , -0.16928778, -0.23719114],\n",
       "       [ 0.47767142, -0.16928778,  1.        ,  0.72432726],\n",
       "       [ 0.61013571, -0.23719114,  0.72432726,  1.        ]])"
      ]
     },
     "execution_count": 12,
     "metadata": {},
     "output_type": "execute_result"
    }
   ],
   "source": [
    "np.corrcoef(conv.values, rowvar=0)"
   ]
  }
 ],
 "metadata": {
  "kernelspec": {
   "display_name": "Python 3",
   "language": "python",
   "name": "python3"
  },
  "language_info": {
   "codemirror_mode": {
    "name": "ipython",
    "version": 3
   },
   "file_extension": ".py",
   "mimetype": "text/x-python",
   "name": "python",
   "nbconvert_exporter": "python",
   "pygments_lexer": "ipython3",
   "version": "3.5.2"
  }
 },
 "nbformat": 4,
 "nbformat_minor": 1
}
